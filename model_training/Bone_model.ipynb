{
 "cells": [
  {
   "cell_type": "code",
   "execution_count": null,
   "metadata": {
    "id": "MfMe6Q5YHb6u"
   },
   "outputs": [],
   "source": [
    "import numpy as np\n",
    "import pandas as pd\n",
    "import cv2\n",
    "import tensorflow as tf\n",
    "from sklearn.model_selection import train_test_split\n",
    "from tensorflow import keras\n",
    "from tensorflow.keras import layers\n",
    "from tensorflow.keras.layers import Dense, Flatten\n",
    "from tensorflow.keras.models import Sequential\n",
    "from tensorflow.keras.optimizers import Adam\n",
    "# from keras.layers import Dense, Conv2D, MaxPooling2D, Flatten, Dropout\n",
    "from keras.utils import to_categorical\n",
    "import matplotlib.pyplot as plt\n",
    "from tensorflow.keras.losses import binary_crossentropy\n",
    "import os\n",
    "\n",
    "\n",
    "Dataset_used = \"https://www.kaggle.com/datasets/vbookshelf/computed-tomography-ct-images/data\""
   ]
  },
  {
   "cell_type": "markdown",
   "metadata": {
    "id": "kj7CEGiaFJrv"
   },
   "source": [
    "# **Defining Functions**\n"
   ]
  },
  {
   "cell_type": "markdown",
   "metadata": {
    "id": "zCD2Na4A7mTB"
   },
   "source": [
    "##Data Generator function"
   ]
  },
  {
   "cell_type": "code",
   "execution_count": null,
   "metadata": {
    "id": "gw2or1BM7uFu"
   },
   "outputs": [],
   "source": [
    "def data_generator(patient_folders_path, labels, batch_size , epochs=1):\n",
    "    patient_ids = labels['PatientNumber'].unique()\n",
    "    num_patients = len(patient_ids)\n",
    "\n",
    "    for i in range(0,epochs):\n",
    "      for offset in range(0, num_patients, batch_size):\n",
    "        batch_patients = patient_ids[offset:offset + batch_size]\n",
    "\n",
    "        X_batch = []\n",
    "        y_batch = []\n",
    "\n",
    "        for patient_no in batch_patients:\n",
    "          path = os.path.join(patient_folders_path , f\"{patient_no:03}\")\n",
    "          slice_imgs = []\n",
    "          slice_labels = []\n",
    "          if os.path.exists(path):\n",
    "            bone_path = os.path.join(path , \"bone\")\n",
    "            for f in sorted(os.listdir(bone_path)):\n",
    "              img_path = os.path.join(bone_path , str(f))\n",
    "              img = cv2.imread(img_path)\n",
    "              # print(img.shape)\n",
    "              slice_imgs.append(img)\n",
    "              slice_no = str(f)\n",
    "              sliceNo = int(slice_no.replace(\".jpg\" , \"\"))\n",
    "              # print(patient_no)\n",
    "              # print(sliceNo)\n",
    "              label = labels[labels[\"PatientNumber\"] == patient_no]\n",
    "              slice_label = label[label[\"SliceNumber\"] == sliceNo]\n",
    "              slice_label_t = slice_label[[\"Fracture_Yes_No\"]].values[0]\n",
    "\n",
    "              slice_labels.extend(slice_label_t)\n",
    "\n",
    "          slice_labels = np.array(slice_labels)\n",
    "          slice_imgs = np.array(slice_imgs)\n",
    "          # print(slice_labels.shape)\n",
    "          # print(slice_imgs.shape)\n",
    "          X_batch = (slice_imgs)\n",
    "          y_batch = (slice_labels)\n",
    "\n",
    "\n",
    "        X_batch = np.array(X_batch)\n",
    "        y_batch = np.array(y_batch)\n",
    "        # print(X_batch.shape)\n",
    "        # print(y_batch.shape)\n",
    "        yield X_batch , y_batch\n",
    "\n",
    "        # print(X_batch.shape)\n",
    "        # print(y_batch)\n",
    "        # print(y_batch.shape)"
   ]
  },
  {
   "cell_type": "markdown",
   "metadata": {
    "id": "OzcdE33JrXy2"
   },
   "source": [
    "## Model Building Function"
   ]
  },
  {
   "cell_type": "code",
   "execution_count": null,
   "metadata": {
    "id": "l98pPj1_rXVw"
   },
   "outputs": [],
   "source": [
    "def build_model():\n",
    "  resnet_model = Sequential()\n",
    "\n",
    "  pretrained_model= tf.keras.applications.ResNet101(include_top=False,\n",
    "                    input_shape=(650 , 650 , 3),\n",
    "                    pooling='avg',classes=1,\n",
    "                    weights='imagenet')\n",
    "  for layer in pretrained_model.layers:\n",
    "          layer.trainable=False\n",
    "\n",
    "  resnet_model.add(pretrained_model)\n",
    "  resnet_model.add(Flatten())\n",
    "  resnet_model.add(Dense(650, activation='relu'))\n",
    "  resnet_model.add(Dense(1, activation='sigmoid'))\n",
    "\n",
    "  return resnet_model"
   ]
  },
  {
   "cell_type": "markdown",
   "metadata": {
    "id": "r49OQmuJsnw3"
   },
   "source": [
    "# **Model training and evaluation**"
   ]
  },
  {
   "cell_type": "code",
   "execution_count": null,
   "metadata": {
    "colab": {
     "base_uri": "https://localhost:8080/"
    },
    "id": "eiwh3T6osnWP",
    "outputId": "56f4b336-f87e-4df5-c453-0b429a6dbd7e"
   },
   "outputs": [
    {
     "name": "stdout",
     "output_type": "stream",
     "text": [
      "Downloading data from https://storage.googleapis.com/tensorflow/keras-applications/resnet/resnet101_weights_tf_dim_ordering_tf_kernels_notop.h5\n",
      "171446536/171446536 [==============================] - 1s 0us/step\n",
      "Epoch 1/5\n",
      "65/65 [==============================] - 715s 11s/step - loss: 4.8467 - accuracy: 0.9018 - val_loss: 4.1096 - val_accuracy: 0.9047\n",
      "Epoch 2/5\n",
      "65/65 [==============================] - ETA: 0s - loss: 1.0275 - accuracy: 0.8852"
     ]
    },
    {
     "name": "stderr",
     "output_type": "stream",
     "text": [
      "WARNING:tensorflow:Your input ran out of data; interrupting training. Make sure that your dataset or generator can generate at least `steps_per_epoch * epochs` batches (in this case, 17 batches). You may need to use the repeat() function when building your dataset.\n"
     ]
    },
    {
     "name": "stdout",
     "output_type": "stream",
     "text": [
      "\b\b\b\b\b\b\b\b\b\b\b\b\b\b\b\b\b\b\b\b\b\b\b\b\b\b\b\b\b\b\b\b\b\b\b\b\b\b\b\b\b\b\b\b\b\b\b\b\b\b\b\b\b\b\b\b\b\b\b\b\b\b\b\b\b\b\b\b\b\b\b\b\b\b\b\b\b\b\b\b\b\b\r65/65 [==============================] - 431s 7s/step - loss: 1.0275 - accuracy: 0.8852\n",
      "Epoch 3/5\n",
      "65/65 [==============================] - 434s 7s/step - loss: 0.8581 - accuracy: 0.9003\n",
      "Epoch 4/5\n",
      "65/65 [==============================] - 442s 7s/step - loss: 0.6438 - accuracy: 0.9043\n",
      "Epoch 5/5\n",
      "65/65 [==============================] - 440s 7s/step - loss: 0.3260 - accuracy: 0.9265\n"
     ]
    }
   ],
   "source": [
    "# Load labels\n",
    "labels_file_path = '/content/drive/MyDrive/siddhi2.0/hemorrhage_diagnosis.csv'\n",
    "labels = pd.read_csv(labels_file_path)\n",
    "\n",
    "# Data paths and constants\n",
    "patient_folders_path = '/content/drive/MyDrive/siddhi2.0/Patients_CT'  # Folder containing subfolders for each patient\n",
    "batch_size = 1  # Number of patients to process per batch\n",
    "epochs = 5\n",
    "\n",
    "# Split the labels into training and validation sets\n",
    "patients_train, patients_val = train_test_split(labels['PatientNumber'].unique(), test_size=0.2, random_state=42)\n",
    "# print(patients_train)\n",
    "# print(patients_val)\n",
    "labels_train = labels[labels['PatientNumber'].isin(patients_train)]\n",
    "labels_val = labels[labels['PatientNumber'].isin(patients_val)]\n",
    "steps_per_epoch = len(patients_train) // batch_size\n",
    "\n",
    "# print(labels_train)\n",
    "# print(labels_val)\n",
    "\n",
    "# Build the model\n",
    "resnet_model = build_model()\n",
    "\n",
    "# Train the model using the data generator\n",
    "train_generator = data_generator(patient_folders_path, labels_train, batch_size , epochs)\n",
    "val_generator = data_generator(patient_folders_path, labels_val, batch_size )\n",
    "\n",
    "resnet_model.compile(optimizer=Adam(learning_rate=0.01),loss=binary_crossentropy,metrics=['accuracy'])\n",
    "\n",
    "\n",
    "history = resnet_model.fit(\n",
    "    train_generator,\n",
    "    steps_per_epoch = steps_per_epoch,\n",
    "    epochs=epochs,\n",
    "    validation_data=val_generator,\n",
    "    validation_steps=len(patients_val) // batch_size\n",
    ")\n",
    "\n",
    "\n",
    "\n"
   ]
  },
  {
   "cell_type": "code",
   "execution_count": null,
   "metadata": {
    "colab": {
     "base_uri": "https://localhost:8080/",
     "height": 455
    },
    "id": "Y8EMBLjpsuSW",
    "outputId": "7dd01bb0-6292-4d84-df3f-9a941cee9912"
   },
   "outputs": [
    {
     "data": {
      "image/png": "[encoded data removed]",
      "text/plain": [
       "<Figure size 640x480 with 1 Axes>"
      ]
     },
     "metadata": {},
     "output_type": "display_data"
    }
   ],
   "source": [
    "resnet_model.save(r\"/content/drive/MyDrive/siddhi2.0/Resnet-101-bone\")\n",
    "# Plot training history\n",
    "plt.plot(history.history['accuracy'], label='accuracy')\n",
    "plt.plot(history.history['val_accuracy'], label='val_accuracy')\n",
    "plt.xlabel('Epoch')\n",
    "plt.ylabel('Accuracy')\n",
    "plt.ylim([0, 1])\n",
    "plt.legend(loc='lower right')\n",
    "plt.show()"
   ]
  },
  {
   "cell_type": "code",
   "execution_count": null,
   "metadata": {
    "id": "zeIgGEPRcO_9"
   },
   "outputs": [],
   "source": []
  }
 ],
 "metadata": {
  "accelerator": "TPU",
  "colab": {
   "gpuType": "V28",
   "provenance": [],
   "toc_visible": true
  },
  "kernelspec": {
   "display_name": "Python 3",
   "name": "python3"
  },
  "language_info": {
   "name": "python"
  }
 },
 "nbformat": 4,
 "nbformat_minor": 0
}
